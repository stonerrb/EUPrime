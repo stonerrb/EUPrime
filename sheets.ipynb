{
 "cells": [
  {
   "cell_type": "code",
   "execution_count": 2,
   "metadata": {},
   "outputs": [
    {
     "name": "stdout",
     "output_type": "stream",
     "text": [
      "Requirement already satisfied: gspread in c:\\users\\rushabh\\appdata\\local\\programs\\python\\python310\\lib\\site-packages (6.1.0)\n",
      "Requirement already satisfied: google-auth>=1.12.0 in c:\\users\\rushabh\\appdata\\local\\programs\\python\\python310\\lib\\site-packages (from gspread) (2.18.0)\n",
      "Requirement already satisfied: google-auth-oauthlib>=0.4.1 in c:\\users\\rushabh\\appdata\\local\\programs\\python\\python310\\lib\\site-packages (from gspread) (1.0.0)\n",
      "Requirement already satisfied: StrEnum==0.4.15 in c:\\users\\rushabh\\appdata\\local\\programs\\python\\python310\\lib\\site-packages (from gspread) (0.4.15)\n",
      "Requirement already satisfied: cachetools<6.0,>=2.0.0 in c:\\users\\rushabh\\appdata\\local\\programs\\python\\python310\\lib\\site-packages (from google-auth>=1.12.0->gspread) (5.3.0)\n",
      "Requirement already satisfied: pyasn1-modules>=0.2.1 in c:\\users\\rushabh\\appdata\\local\\programs\\python\\python310\\lib\\site-packages (from google-auth>=1.12.0->gspread) (0.3.0)\n",
      "Requirement already satisfied: six>=1.9.0 in c:\\users\\rushabh\\appdata\\local\\programs\\python\\python310\\lib\\site-packages (from google-auth>=1.12.0->gspread) (1.12.0)\n",
      "Requirement already satisfied: urllib3<2.0 in c:\\users\\rushabh\\appdata\\local\\programs\\python\\python310\\lib\\site-packages (from google-auth>=1.12.0->gspread) (1.26.12)\n",
      "Requirement already satisfied: rsa<5,>=3.1.4 in c:\\users\\rushabh\\appdata\\local\\programs\\python\\python310\\lib\\site-packages (from google-auth>=1.12.0->gspread) (4.9)\n",
      "Requirement already satisfied: requests-oauthlib>=0.7.0 in c:\\users\\rushabh\\appdata\\local\\programs\\python\\python310\\lib\\site-packages (from google-auth-oauthlib>=0.4.1->gspread) (1.3.1)\n",
      "Requirement already satisfied: pyasn1<0.6.0,>=0.4.6 in c:\\users\\rushabh\\appdata\\local\\programs\\python\\python310\\lib\\site-packages (from pyasn1-modules>=0.2.1->google-auth>=1.12.0->gspread) (0.5.0)\n",
      "Requirement already satisfied: oauthlib>=3.0.0 in c:\\users\\rushabh\\appdata\\local\\programs\\python\\python310\\lib\\site-packages (from requests-oauthlib>=0.7.0->google-auth-oauthlib>=0.4.1->gspread) (3.2.2)\n",
      "Requirement already satisfied: requests>=2.0.0 in c:\\users\\rushabh\\appdata\\local\\programs\\python\\python310\\lib\\site-packages (from requests-oauthlib>=0.7.0->google-auth-oauthlib>=0.4.1->gspread) (2.28.1)\n",
      "Requirement already satisfied: charset-normalizer<3,>=2 in c:\\users\\rushabh\\appdata\\local\\programs\\python\\python310\\lib\\site-packages (from requests>=2.0.0->requests-oauthlib>=0.7.0->google-auth-oauthlib>=0.4.1->gspread) (2.1.1)\n",
      "Requirement already satisfied: idna<4,>=2.5 in c:\\users\\rushabh\\appdata\\local\\programs\\python\\python310\\lib\\site-packages (from requests>=2.0.0->requests-oauthlib>=0.7.0->google-auth-oauthlib>=0.4.1->gspread) (2.10)\n",
      "Requirement already satisfied: certifi>=2017.4.17 in c:\\users\\rushabh\\appdata\\local\\programs\\python\\python310\\lib\\site-packages (from requests>=2.0.0->requests-oauthlib>=0.7.0->google-auth-oauthlib>=0.4.1->gspread) (2024.2.2)\n",
      "Note: you may need to restart the kernel to use updated packages.\n"
     ]
    },
    {
     "name": "stderr",
     "output_type": "stream",
     "text": [
      "DEPRECATION: textract 1.6.5 has a non-standard dependency specifier extract-msg<=0.29.*. pip 24.0 will enforce this behaviour change. A possible replacement is to upgrade to a newer version of textract or contact the author to suggest that they release a version with a conforming dependency specifiers. Discussion can be found at https://github.com/pypa/pip/issues/12063\n",
      "\n",
      "[notice] A new release of pip is available: 23.3.1 -> 24.0\n",
      "[notice] To update, run: python.exe -m pip install --upgrade pip\n"
     ]
    }
   ],
   "source": [
    "pip install gspread"
   ]
  },
  {
   "cell_type": "code",
   "execution_count": 4,
   "metadata": {},
   "outputs": [],
   "source": [
    "import gspread "
   ]
  },
  {
   "cell_type": "code",
   "execution_count": 5,
   "metadata": {},
   "outputs": [],
   "source": [
    "gc = gspread.service_account(filename='../intern-420513-76c665be79a8.json')"
   ]
  },
  {
   "cell_type": "code",
   "execution_count": 9,
   "metadata": {},
   "outputs": [],
   "source": [
    "wks = gc.open(\"Intern Task\").sheet1"
   ]
  },
  {
   "cell_type": "code",
   "execution_count": 12,
   "metadata": {},
   "outputs": [
    {
     "data": {
      "text/plain": [
       "{'spreadsheetId': '1osZ-YTzKJEumo16kdwiPjfZtVeoYBgR5BLM53KPg0ss',\n",
       " 'replies': [{}]}"
      ]
     },
     "execution_count": 12,
     "metadata": {},
     "output_type": "execute_result"
    }
   ],
   "source": [
    "wks.update([[12222, 2111], [3, 4]], \"A1\")\n",
    "wks.update_acell(\"B42\", \"it's down there somewhere, let me take another look.\")\n",
    "wks.format('A1:B1', {'textFormat': {'bold': True}})"
   ]
  },
  {
   "cell_type": "code",
   "execution_count": 13,
   "metadata": {},
   "outputs": [
    {
     "name": "stdout",
     "output_type": "stream",
     "text": [
      "Note: you may need to restart the kernel to use updated packages.\n"
     ]
    },
    {
     "name": "stderr",
     "output_type": "stream",
     "text": [
      "ERROR: Could not find a version that satisfies the requirement googleapiclient (from versions: none)\n",
      "ERROR: No matching distribution found for googleapiclient\n",
      "\n",
      "[notice] A new release of pip is available: 23.3.1 -> 24.0\n",
      "[notice] To update, run: python.exe -m pip install --upgrade pip\n"
     ]
    }
   ],
   "source": [
    "pip install googleapiclient"
   ]
  },
  {
   "cell_type": "code",
   "execution_count": null,
   "metadata": {},
   "outputs": [],
   "source": [
    "import gspread\n",
    "from google.oauth2 import service_account\n",
    "from googleapiclient.discovery import build\n",
    "\n",
    "# Load service account credentials from JSON file\n",
    "credentials = service_account.Credentials.from_service_account_file('intern-420513-76c665be79a8.json')\n",
    "\n",
    "# Build the Google Sheets API service\n",
    "sheets_api = build('sheets', 'v4', credentials=credentials)\n",
    "\n",
    "# Replace 'sheet_id' and 'range_name' with your actual sheet ID and range\n",
    "sheet_id = 'your_sheet_id'\n",
    "range_name = 'your_range_name'\n",
    "\n",
    "# Retrieve data from Google Sheets\n",
    "result = sheets_api.spreadsheets().values().get(spreadsheetId=sheet_id, range=range_name).execute()\n",
    "user_data = result.get(\"values\", [])\n",
    "print(user_data)\n"
   ]
  }
 ],
 "metadata": {
  "kernelspec": {
   "display_name": "Python 3",
   "language": "python",
   "name": "python3"
  },
  "language_info": {
   "codemirror_mode": {
    "name": "ipython",
    "version": 3
   },
   "file_extension": ".py",
   "mimetype": "text/x-python",
   "name": "python",
   "nbconvert_exporter": "python",
   "pygments_lexer": "ipython3",
   "version": "3.10.7"
  }
 },
 "nbformat": 4,
 "nbformat_minor": 2
}
